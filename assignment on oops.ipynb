{
 "cells": [
  {
   "cell_type": "code",
   "execution_count": 5,
   "id": "c981cd8e",
   "metadata": {},
   "outputs": [],
   "source": [
    "class vehicle:\n",
    "    def __init__(self,name_of_vehicle,max_speed,average_of_vehicle):\n",
    "        self.name_of_vehicle = name_of_vehicle\n",
    "        self.max_speed=max_speed\n",
    "        self.average_of_vehicle=average_of_vehicle\n",
    "        print(self.name_of_vehicle,self.max_speed,self.average_of_vehicle)"
   ]
  },
  {
   "cell_type": "code",
   "execution_count": 6,
   "id": "3135c8f8",
   "metadata": {},
   "outputs": [
    {
     "name": "stdout",
     "output_type": "stream",
     "text": [
      "kawasaki 200 150\n"
     ]
    }
   ],
   "source": [
    "a=vehicle(\"kawasaki\",200,150)"
   ]
  },
  {
   "cell_type": "code",
   "execution_count": 7,
   "id": "27980634",
   "metadata": {},
   "outputs": [],
   "source": [
    "class car(vehicle):\n",
    "    def seating_capacity(self,capacity):\n",
    "        self.capacity=capacity\n",
    "        return(self.name_of_vehicle, self.capacity)"
   ]
  },
  {
   "cell_type": "code",
   "execution_count": 9,
   "id": "aa1a7040",
   "metadata": {},
   "outputs": [
    {
     "name": "stdout",
     "output_type": "stream",
     "text": [
      "yamaha 150 100\n"
     ]
    }
   ],
   "source": [
    "b=car(\"yamaha\",150,100)"
   ]
  },
  {
   "cell_type": "code",
   "execution_count": 10,
   "id": "3946fe71",
   "metadata": {},
   "outputs": [
    {
     "data": {
      "text/plain": [
       "('yamaha', 2)"
      ]
     },
     "execution_count": 10,
     "metadata": {},
     "output_type": "execute_result"
    }
   ],
   "source": [
    "b.seating_capacity(2)"
   ]
  },
  {
   "cell_type": "code",
   "execution_count": null,
   "id": "5dad3123",
   "metadata": {},
   "outputs": [],
   "source": [
    "\"\"\"The multiple inheritence\n",
    "        It is nothing but deriving one class from many other classes\"\"\""
   ]
  },
  {
   "cell_type": "code",
   "execution_count": 11,
   "id": "ed150848",
   "metadata": {},
   "outputs": [],
   "source": [
    "# multiple inheritence\n",
    "class parent:\n",
    "    def fun1(self):\n",
    "        print(\"fun1\")\n",
    "class child:\n",
    "    def fun2(self):\n",
    "        print(\"fun2\")\n",
    "class child1(parent,child):\n",
    "    def fun3(self):\n",
    "        print(\"fun3\")"
   ]
  },
  {
   "cell_type": "code",
   "execution_count": 12,
   "id": "0b7ad996",
   "metadata": {},
   "outputs": [],
   "source": [
    "y=child1()"
   ]
  },
  {
   "cell_type": "code",
   "execution_count": 13,
   "id": "f2d0e5a3",
   "metadata": {},
   "outputs": [
    {
     "name": "stdout",
     "output_type": "stream",
     "text": [
      "fun1\n",
      "fun2\n",
      "fun3\n"
     ]
    }
   ],
   "source": [
    "y.fun1()\n",
    "y.fun2()\n",
    "y.fun3()"
   ]
  },
  {
   "cell_type": "code",
   "execution_count": null,
   "id": "145fb308",
   "metadata": {},
   "outputs": [],
   "source": [
    "\"\"\"The getter and setter methods in python is used to allow the users to make some modifications on private variables\n",
    "        The getter method is used to get the value of the private variable\n",
    "        The setter method is used to set the value of the private variable\"\"\""
   ]
  },
  {
   "cell_type": "code",
   "execution_count": 14,
   "id": "43f1b290",
   "metadata": {},
   "outputs": [
    {
     "name": "stdout",
     "output_type": "stream",
     "text": [
      "setter method called\n",
      "getter method called\n",
      "19\n"
     ]
    }
   ],
   "source": [
    "class Geeks:\n",
    "     def __init__(self):\n",
    "          self._age = 0\n",
    "     @property\n",
    "     def age(self):\n",
    "         print(\"getter method called\")\n",
    "         return self._age\n",
    "       \n",
    "     @age.setter\n",
    "     def age(self, a):\n",
    "         if(a < 18):\n",
    "            raise ValueError(\"Sorry you age is below eligibility criteria\")\n",
    "         print(\"setter method called\")\n",
    "         self._age = a\n",
    "  \n",
    "mark = Geeks()\n",
    "  \n",
    "mark.age = 19\n",
    "  \n",
    "print(mark.age)"
   ]
  },
  {
   "cell_type": "code",
   "execution_count": null,
   "id": "8fc3d4fd",
   "metadata": {},
   "outputs": [],
   "source": [
    "\"\"\"The method overriding is implemented only when there is inheritence\n",
    "        We can perform method overriding if the two methods have same name and same arguments\"\"\""
   ]
  },
  {
   "cell_type": "code",
   "execution_count": 15,
   "id": "480e9001",
   "metadata": {},
   "outputs": [],
   "source": [
    "class base:\n",
    "    def display(self):\n",
    "        print(\"display\")\n",
    "class derived(base):\n",
    "    def display(self):\n",
    "        print(\"derived display\")"
   ]
  },
  {
   "cell_type": "code",
   "execution_count": 16,
   "id": "3aaf2060",
   "metadata": {},
   "outputs": [],
   "source": [
    "g=derived()"
   ]
  },
  {
   "cell_type": "code",
   "execution_count": 17,
   "id": "7c3066f0",
   "metadata": {},
   "outputs": [
    {
     "name": "stdout",
     "output_type": "stream",
     "text": [
      "derived display\n"
     ]
    }
   ],
   "source": [
    "g.display()"
   ]
  },
  {
   "cell_type": "code",
   "execution_count": null,
   "id": "7ffc68ad",
   "metadata": {},
   "outputs": [],
   "source": []
  }
 ],
 "metadata": {
  "kernelspec": {
   "display_name": "Python 3 (ipykernel)",
   "language": "python",
   "name": "python3"
  },
  "language_info": {
   "codemirror_mode": {
    "name": "ipython",
    "version": 3
   },
   "file_extension": ".py",
   "mimetype": "text/x-python",
   "name": "python",
   "nbconvert_exporter": "python",
   "pygments_lexer": "ipython3",
   "version": "3.9.13"
  }
 },
 "nbformat": 4,
 "nbformat_minor": 5
}
